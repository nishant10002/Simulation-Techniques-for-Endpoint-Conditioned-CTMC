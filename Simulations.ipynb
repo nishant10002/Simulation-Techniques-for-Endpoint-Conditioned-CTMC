{
  "nbformat": 4,
  "nbformat_minor": 0,
  "metadata": {
    "colab": {
      "provenance": []
    },
    "kernelspec": {
      "name": "python3",
      "display_name": "Python 3"
    },
    "language_info": {
      "name": "python"
    }
  },
  "cells": [
    {
      "cell_type": "markdown",
      "source": [
        "Setting up R extension\n",
        "\n"
      ],
      "metadata": {
        "id": "xgIm-129xpHA"
      }
    },
    {
      "cell_type": "code",
      "execution_count": null,
      "metadata": {
        "colab": {
          "base_uri": "https://localhost:8080/"
        },
        "id": "eQbMlnCRxlMG",
        "outputId": "5e1d5eb1-1f66-4f68-fa5e-668e605d64bd"
      },
      "outputs": [
        {
          "output_type": "stream",
          "name": "stdout",
          "text": [
            "Requirement already satisfied: rpy2 in /usr/local/lib/python3.10/dist-packages (3.4.2)\n",
            "Requirement already satisfied: cffi>=1.10.0 in /usr/local/lib/python3.10/dist-packages (from rpy2) (1.17.1)\n",
            "Requirement already satisfied: jinja2 in /usr/local/lib/python3.10/dist-packages (from rpy2) (3.1.4)\n",
            "Requirement already satisfied: pytz in /usr/local/lib/python3.10/dist-packages (from rpy2) (2024.2)\n",
            "Requirement already satisfied: tzlocal in /usr/local/lib/python3.10/dist-packages (from rpy2) (5.2)\n",
            "Requirement already satisfied: pycparser in /usr/local/lib/python3.10/dist-packages (from cffi>=1.10.0->rpy2) (2.22)\n",
            "Requirement already satisfied: MarkupSafe>=2.0 in /usr/local/lib/python3.10/dist-packages (from jinja2->rpy2) (3.0.2)\n"
          ]
        }
      ],
      "source": [
        "!pip install rpy2"
      ]
    },
    {
      "cell_type": "code",
      "source": [
        "%load_ext rpy2.ipython"
      ],
      "metadata": {
        "id": "miQ5Ck3cx2_R"
      },
      "execution_count": null,
      "outputs": []
    },
    {
      "cell_type": "markdown",
      "source": [
        "Direct Sampling Implementation"
      ],
      "metadata": {
        "id": "DcTHcl2bx9WN"
      }
    },
    {
      "cell_type": "code",
      "source": [
        "%%R\n",
        "DirectSampl <- function(BgnSt,EndSt,RateM,Tm){\n",
        "  ptm1 <- proc.time()[1]\n",
        "  nSt <- nrow(RateM)\n",
        "  StSp <- 1:nSt\n",
        "  X <- vector(mode=\"numeric\")\n",
        "  X[1] <- BgnSt\n",
        "  T <- vector(mode=\"numeric\")\n",
        "  T[1] <- 0\n",
        "  EndTm <- Tm\n",
        "  Eigen <- eigen(RateM)\n",
        "  Lam <- Eigen$values\n",
        "  U <- Eigen$vectors\n",
        "  InvU <- solve(U)\n",
        "  PrbM <- U%*%diag(exp(Tm*Lam))%*%InvU\n",
        "  BgnRate <- -RateM[BgnSt,BgnSt]\n",
        "  PrbBgnBgn <- PrbM[BgnSt,BgnSt]\n",
        "  cnt <- 1\n",
        "  ptm2 <- proc.time()[1]\n",
        "  while (BgnSt!=EndSt | runif(1)>exp(-BgnRate*Tm)/PrbBgnBgn) {\n",
        "    if (BgnRate %in% Lam) cat(\"A j exists such that q_a+lam_j=0\",\"\\n\")\n",
        "    PrbBgnEnd <- PrbM[BgnSt,EndSt]\n",
        "    JVec <- (exp(Tm*Lam)-exp(-Tm*BgnRate))/(Lam+BgnRate)\n",
        "    PrbV <- (RateM[BgnSt,]/PrbBgnEnd)*\n",
        "      rowSums(U*matrix(rep(InvU[,EndSt]*JVec,nSt),nrow=nSt,byrow=TRUE))\n",
        "    NewSt <- sample(StSp[-BgnSt],size=1,prob=pmax(0,PrbV[-BgnSt]))\n",
        "    CDF.Fct <- function(tm){\n",
        "      KVec.tm <- exp(Tm*Lam)/(Lam+BgnRate)*(1-exp(-(Lam+BgnRate)*tm))\n",
        "      CDF.tm <- (RateM[BgnSt,NewSt]/PrbBgnEnd/PrbV[NewSt])*\n",
        "        sum(U[NewSt,]*InvU[,EndSt]*KVec.tm)\n",
        "      return(CDF.tm)\n",
        "    }\n",
        "    rU <- runif(1)\n",
        "    RootFct <- function(tm,rU) CDF.Fct(tm)-rU\n",
        "    uroot <- uniroot(RootFct,interval=c(0,Tm),rU=rU)\n",
        "    Wt <- uroot$root\n",
        "    X[cnt+1] <- NewSt\n",
        "    T[cnt+1] <- T[cnt]+Wt\n",
        "    cnt <- cnt+1\n",
        "    Tm <- Tm-Wt\n",
        "    BgnSt <- NewSt\n",
        "    PrbM <- U%*%diag(exp(Tm*Lam))%*%InvU\n",
        "    BgnRate <- -RateM[BgnSt,BgnSt]\n",
        "    PrbBgnBgn <- PrbM[BgnSt,BgnSt]\n",
        "  }\n",
        "  ptm3 <- proc.time()[1]\n",
        "  Path <- list()\n",
        "  Path$St <- c(X,EndSt)\n",
        "  Path$Tm <- c(T,EndTm)\n",
        "  Path$ptm <- c(ptm2-ptm1,ptm3-ptm2)\n",
        "  return(Path)\n",
        "}\n",
        "JFct <- function(Lam,Tm){\n",
        "  nSt <- length(Lam)\n",
        "  JMat <- matrix(0,nSt,nSt)\n",
        "  expTmLam <- exp(Tm*Lam)\n",
        "  for (i in 1:nSt){\n",
        "    for (j in 1:nSt){\n",
        "      JMat[i,j] <- ifelse(identical(all.equal(Lam[i],Lam[j]),TRUE),\n",
        "                          Tm*expTmLam[i],\n",
        "                          (expTmLam[i]-expTmLam[j])/(Lam[i]-Lam[j]))\n",
        "    }\n",
        "  }\n",
        "  return(JMat)\n",
        "}\n",
        "cndNsbst <- function(BgnSt,EndSt,RateM,Tm){\n",
        "  nSt <- nrow(RateM)\n",
        "  StSp <- 1:nSt\n",
        "  Eigen <- eigen(RateM)\n",
        "  Lam <- Eigen$values\n",
        "  U <- Eigen$vectors\n",
        "  InvU <- solve(U)\n",
        "  PrbM <- U%*%diag(exp(Tm*Lam))%*%InvU\n",
        "  PrbBE <- PrbM[BgnSt,EndSt]\n",
        "  JMat <- JFct(Lam,Tm)\n",
        "  N <- 0\n",
        "  for (i in 1:nSt){\n",
        "    for (j in StSp[-i]){\n",
        "      N <- N+RateM[i,j]*\n",
        "        sum( U[BgnSt,]*InvU[,i]*colSums(U[j,]*InvU[,EndSt]*JMat) )/PrbBE\n",
        "    }\n",
        "  }\n",
        "  return(N)\n",
        "}\n",
        "cndNsbstV <- function(BgnSt,EndSt,RateM,TmV){\n",
        "  len <- length(TmV)\n",
        "  NV <- rep(0,len)\n",
        "  for (i in 1:len){\n",
        "    cat(\"evaluating no\",i,\"out of\",len,\"\\n\")\n",
        "    NV[i] <- cndNsbst(BgnSt,EndSt,RateM,TmV[i])\n",
        "  }\n",
        "  return(NV)\n",
        "}"
      ],
      "metadata": {
        "id": "Nk2XiopSx9y1"
      },
      "execution_count": null,
      "outputs": []
    },
    {
      "cell_type": "markdown",
      "source": [
        "Rejection Sampling Implementation"
      ],
      "metadata": {
        "id": "pGgFm5IFyxd7"
      }
    },
    {
      "cell_type": "code",
      "source": [
        "%%R\n",
        "SimpleFrwdSampl <- function(BgnSt,RateM,Tm){\n",
        "  ptm1 <- proc.time()[1]\n",
        "  nSt <- nrow(RateM)\n",
        "  StSp <- 1:nSt\n",
        "  X <- vector(mode=\"numeric\")\n",
        "  X[1]<- BgnSt\n",
        "  T <- vector(mode=\"numeric\")\n",
        "  T[1] <- 0\n",
        "  T[2] <- rexp(1,-RateM[X[1],X[1]])\n",
        "  X[2] <- sample(StSp[-X[1]],1,prob=RateM[X[1],-X[1]])\n",
        "  cnt <- 2\n",
        "  ptm2 <- proc.time()[1]\n",
        "  while (T[cnt] < Tm) {\n",
        "    T[cnt+1] <- T[cnt]+rexp(1,-RateM[X[cnt],X[cnt]])\n",
        "    X[cnt+1] <- sample(StSp[-X[cnt]],1,prob=RateM[X[cnt],-X[cnt]])\n",
        "    cnt <- cnt+1\n",
        "  }\n",
        "  ptm3 <- proc.time()[1]\n",
        "  Path <- list()\n",
        "  Path$Tm <- c(T[1:(cnt-1)],Tm)\n",
        "  Path$St <- c(X[1:(cnt-1)],X[cnt-1])\n",
        "  Path$ptm <- c(ptm2-ptm1,ptm3-ptm2)\n",
        "  return(Path)\n",
        "}\n",
        "ConstrFrwdSampl <- function(BgnSt,RateM,Tm){\n",
        "  ptm1 <- proc.time()[1]\n",
        "  nSt <- nrow(RateM)\n",
        "  StSp <- 1:nSt\n",
        "  X <- vector(mode=\"numeric\")\n",
        "  X[1] <- BgnSt\n",
        "  T <- vector(mode=\"numeric\")\n",
        "  T[1] <- 0\n",
        "  RateAwayBgn <- -RateM[BgnSt,BgnSt]\n",
        "  T[2] <- -log(1-runif(1)*(1-exp(-Tm*RateAwayBgn)))/RateAwayBgn\n",
        "  X[2] <- sample(StSp[-BgnSt],1,prob=RateM[BgnSt,-BgnSt])\n",
        "  cnt <- 2\n",
        "  ptm2 <- proc.time()[1]\n",
        "  while (T[cnt] < Tm) {\n",
        "    T[cnt+1] <- T[cnt]+rexp(1,-RateM[X[cnt],X[cnt]])\n",
        "    X[cnt+1] <- sample(StSp[-X[cnt]],1,prob=RateM[X[cnt],-X[cnt]])\n",
        "    cnt <- cnt+1\n",
        "  }\n",
        "  ptm3 <- proc.time()[1]\n",
        "  Path <- list()\n",
        "  Path$Tm <- c(T[1:(cnt-1)],Tm)\n",
        "  Path$St <- c(X[1:(cnt-1)],X[cnt-1])\n",
        "  Path$ptm <- c(ptm2-ptm1,ptm3-ptm2)\n",
        "  return(Path)\n",
        "}\n",
        "RejectSampl <- function(BgnSt,EndSt,RateM,Tm){\n",
        "  if (BgnSt==EndSt){\n",
        "    p.acc <- AccPrbSame(BgnSt,RateM,Tm)\n",
        "    if (p.acc < 1e-3) {\n",
        "      SimPath <- list()\n",
        "      SimPath$Tm <- c(0,NA,Tm)\n",
        "      SimPath$St <- c(BgnSt,NA,EndSt)\n",
        "      SimPath$ptm <- c(NA,NA)\n",
        "      return(SimPath)\n",
        "    }\n",
        "    SimPath <- SimpleFrwdSampl(BgnSt,RateM,Tm)\n",
        "    ptm <- SimPath$ptm\n",
        "    while (SimPath$St[length(SimPath$St)]!=EndSt){\n",
        "      SimPath <- SimpleFrwdSampl(BgnSt,RateM,Tm)\n",
        "      ptm <- ptm+SimPath$ptm\n",
        "    }\n",
        "    SimPath$ptm <- ptm\n",
        "    return(SimPath)\n",
        "  }\n",
        "  if (BgnSt!=EndSt){\n",
        "    p.acc <- AccPrbDiff(BgnSt,EndSt,RateM,Tm)\n",
        "    if (p.acc < 1e-3) {\n",
        "      SimPath <- list()\n",
        "      SimPath$Tm <- c(0,NA,Tm)\n",
        "      SimPath$St <- c(BgnSt,NA,EndSt)\n",
        "      SimPath$ptm <- c(NA,NA)\n",
        "      return(SimPath)\n",
        "    }\n",
        "    SimPath <- ConstrFrwdSampl(BgnSt,RateM,Tm)\n",
        "    ptm <- SimPath$ptm\n",
        "    while (SimPath$St[length(SimPath$St)]!=EndSt){\n",
        "      SimPath <- ConstrFrwdSampl(BgnSt,RateM,Tm)\n",
        "      ptm <- ptm+SimPath$ptm\n",
        "    }\n",
        "    SimPath$ptm <- ptm\n",
        "    return(SimPath)\n",
        "  }\n",
        "}\n",
        "AccPrbSame <- function(BgnSt,RateM,Tm){\n",
        "  Eigen <- eigen(RateM)\n",
        "  Lam <- Eigen$values\n",
        "  U <- Eigen$vectors\n",
        "  InvU <- solve(U)\n",
        "  PrbM <- U%*%diag(exp(Tm*Lam))%*%InvU\n",
        "  return(PrbM[BgnSt,BgnSt])\n",
        "}\n",
        "AccPrbSameV <- function(BgnSt,RateM,TmV){\n",
        "  len <- length(TmV)\n",
        "  AccPrbV <- rep(0,len)\n",
        "  for (i in 1:len) AccPrbV[i] <- AccPrbSame(BgnSt,RateM,TmV[i])\n",
        "  return(AccPrbV)\n",
        "}\n",
        "AccPrbDiff <- function(BgnSt,EndSt,RateM,Tm){\n",
        "  nSt <- nrow(RateM)\n",
        "  Eigen <- eigen(RateM)\n",
        "  Lam <- Eigen$values\n",
        "  U <- Eigen$vectors\n",
        "  InvU <- solve(U)\n",
        "  PrbM <- U%*%diag(exp(Tm*Lam))%*%InvU\n",
        "  BgnRate <- -RateM[BgnSt,BgnSt]\n",
        "  PrbBgnBgn <- PrbM[BgnSt,BgnSt]\n",
        "  if (BgnRate %in% Lam) cat(\"A j exists such that q_a+lam_j=0\",\"\\n\")\n",
        "  JVec <- (exp(Tm*Lam)-exp(-Tm*BgnRate))/(Lam+BgnRate)\n",
        "  KVec <-\n",
        "  rowSums(U*matrix(rep(InvU[,EndSt]*JVec,nSt),nrow=nSt,byrow=TRUE))\n",
        "  AccPrb <- (1/(1-exp(-Tm*BgnRate)))*sum(RateM[BgnSt,-BgnSt]*KVec[-BgnSt])\n",
        "  return(AccPrb)\n",
        "}\n",
        "AccPrbDiffV <- function(BgnSt,EndSt,RateM,TmV){\n",
        "  len <- length(TmV)\n",
        "  AccPrbV <- rep(0,len)\n",
        "  for (i in 1:len) AccPrbV[i] <- AccPrbDiff(BgnSt,EndSt,RateM,TmV[i])\n",
        "  return(AccPrbV)\n",
        "}\n",
        "AccPrbV <- function(BgnSt,EndSt,RateM,TmV){\n",
        "  if (BgnSt==EndSt) return(AccPrbSameV(BgnSt,RateM,TmV))\n",
        "  if (BgnSt!=EndSt) return(AccPrbDiffV(BgnSt,EndSt,RateM,TmV))\n",
        "}\n",
        "AccPrbAppxV <- function(BgnSt,EndSt,RateM,TmV){\n",
        "  if (BgnSt!=EndSt){\n",
        "    nSt <- nrow(RateM)\n",
        "    StSp <- 1:nSt\n",
        "    Qa <- -RateM[BgnSt,BgnSt]\n",
        "    Qab <- RateM[BgnSt,EndSt]\n",
        "    Qb <- -RateM[EndSt,EndSt]\n",
        "    nonab <- StSp[-c(BgnSt,EndSt)]\n",
        "    intcpt <- Qab/Qa\n",
        "    slope1 <- sum(RateM[BgnSt,nonab]*RateM[nonab,EndSt])/2/Qa\n",
        "    slope2 <- -Qab*Qb/2/Qa\n",
        "    return(intcpt+(slope1+slope2)*TmV)\n",
        "  }\n",
        "  if (BgnSt==EndSt){\n",
        "    Qa <- -RateM[BgnSt,BgnSt]\n",
        "    return(1-Qa*TmV)\n",
        "  }\n",
        "}\n",
        "NsbstSame <- function(BgnSt,RateM,Tm){\n",
        "  nSt <- nrow(RateM)\n",
        "  StSp <- 1:nSt\n",
        "  Eigen <- eigen(RateM)\n",
        "  Lam <- Eigen$values\n",
        "  U <- Eigen$vectors\n",
        "  InvU <- solve(U)\n",
        "  IVec <- rep(0,nSt)\n",
        "  for (j in 1:nSt){\n",
        "    IVec[j] <- ifelse(identical(all.equal(Lam[j],0),TRUE),\n",
        "                      Tm,\n",
        "                      (exp(Lam[j]*Tm)-1)/Lam[j])\n",
        "  }\n",
        "  TmVec <- rep(0,nSt)\n",
        "  for (i in 1:nSt){\n",
        "    TmVec[i] <- sum(U[BgnSt,]*InvU[,i]*IVec)\n",
        "  }\n",
        "  N <- 0\n",
        "  for (i in 1:nSt){\n",
        "    for (j in StSp[-i]){\n",
        "      N <- N+RateM[i,j]*TmVec[i]\n",
        "    }\n",
        "  }\n",
        "  return(N)\n",
        "}\n",
        "NsbstSameV <- function(BgnSt,RateM,TmV){\n",
        "  len <- length(TmV)\n",
        "  NV <- rep(0,len)\n",
        "  for (i in 1:len) NV[i] <- NsbstSame(BgnSt,RateM,TmV[i])\n",
        "  return(NV)\n",
        "}\n",
        "RejTime <- function(BgnSt,RateM,Tm,NewSt){\n",
        "  nSt <- nrow(RateM)\n",
        "  StSp <- 1:nSt\n",
        "  Eigen <- eigen(RateM)\n",
        "  Lam <- Eigen$values\n",
        "  U <- Eigen$vectors\n",
        "  InvU <- solve(U)\n",
        "  QBgn <- -RateM[BgnSt,BgnSt]\n",
        "  TmBgn <- 1/(1-exp(-Tm*QBgn))*\n",
        "    (-exp(-Tm*QBgn)/QBgn-Tm*exp(-Tm*QBgn)+1/QBgn)\n",
        "  JVec <- rep(0,nSt)\n",
        "  for (j in 1:nSt){\n",
        "    if (all.equal(Lam[j],0)==TRUE){\n",
        "      JVec[j] <-\n",
        "        (exp(-Tm*QBgn)/QBgn)*(Tm*exp(Tm*QBgn)-exp(Tm*QBgn)/QBgn+1/QBgn)\n",
        "      }\n",
        "    if (all.equal(Lam[j],QBgn)==TRUE){\n",
        "      JVec[j] <- (1/Lam[j])*(\n",
        "        (exp(Tm*Lam[j])/QBgn)*(1-exp(-Tm*QBgn))-Tm )\n",
        "    }\n",
        "    if (all.equal(Lam[j],0)!=TRUE & all.equal(Lam[j],QBgn)!=TRUE){\n",
        "      JVec[j] <- (1/Lam[j])*\n",
        "        (exp(Tm*Lam[j])/QBgn*(1-exp(-Tm*QBgn))-\n",
        "        (1/(Lam[j]-QBgn))*(exp((Lam[j]-QBgn)*Tm)-1))\n",
        "    }\n",
        "  }\n",
        "  TmInSt <- QBgn/(1-exp(-Tm*QBgn))*colSums(U[NewSt,]*InvU*JVec)\n",
        "  return(c(TmInSt,TmBgn))\n",
        "}\n",
        "NsbstDiff <- function(BgnSt,RateM,Tm){\n",
        "  nSt <- nrow(RateM)\n",
        "  StSp <- 1:nSt\n",
        "  nonBgnSt <- StSp[-BgnSt]\n",
        "  QBgn <- -RateM[BgnSt,BgnSt]\n",
        "  TmInSt <- rep(0,nSt+1)\n",
        "  for (NewSt in nonBgnSt){\n",
        "    TmInSt <- TmInSt+\n",
        "      RejTime(BgnSt,RateM,Tm,NewSt)*RateM[BgnSt,NewSt]/QBgn\n",
        "  }\n",
        "  nExpSbst <- 1-sum(TmInSt[StSp]*diag(RateM))\n",
        "  return(nExpSbst)\n",
        "}\n",
        "NsbstDiffV <- function(BgnSt,RateM,TmV){\n",
        "  len <- length(TmV)\n",
        "  NV <- rep(0,len)\n",
        "  for (i in 1:len) {\n",
        "    cat(\"evaluating no\",i,\"out of\",len,\"\\n\")\n",
        "    NV[i] <- NsbstDiff(BgnSt,RateM,TmV[i])\n",
        "  }\n",
        "  return(NV)\n",
        "}\n",
        "NsbstV <- function(BgnSt,EndSt,RateM,TmV){\n",
        "  if (BgnSt==EndSt) return(NsbstSameV(BgnSt,RateM,TmV))\n",
        "  if (BgnSt!=EndSt) return(NsbstDiffV(BgnSt,RateM,TmV))\n",
        "}"
      ],
      "metadata": {
        "id": "_9JqZ8AWytf9"
      },
      "execution_count": null,
      "outputs": []
    },
    {
      "cell_type": "markdown",
      "source": [
        "Uniform Sampling Implementation"
      ],
      "metadata": {
        "id": "ZrI58jdnzwh6"
      }
    },
    {
      "cell_type": "code",
      "source": [
        "%%R\n",
        "UniformSampl <- function(BgnSt,EndSt,RateM,Tm){\n",
        "  ptm1 <- proc.time()[1]\n",
        "  Eigen <- eigen(RateM)\n",
        "  Lam <- Eigen$values\n",
        "  U <- Eigen$vectors\n",
        "  InvU <- solve(U)\n",
        "  PrbBgnEnd <- (U%*%diag(exp(Tm*Lam))%*%InvU)[BgnSt,EndSt]\n",
        "  nSt <- nrow(RateM)\n",
        "  Mx <- max(-diag(RateM))\n",
        "  TransM <- diag(rep(1,times=nSt))+RateM/Mx\n",
        "  TransMn <- TransM\n",
        "  rU <- runif(1)\n",
        "  ifelse(BgnSt==EndSt,cum <- dpois(0,Mx*Tm)/PrbBgnEnd,cum <- 0)\n",
        "  notExceed <- TRUE\n",
        "  if (cum>rU) { notExceed <- FALSE }\n",
        "  nJmp <- 0\n",
        "  ptm2 <- proc.time()[1]\n",
        "  while (notExceed){\n",
        "    nJmp <- nJmp+1\n",
        "    prb <- dpois(nJmp,Mx*Tm)*TransMn[BgnSt,EndSt]/PrbBgnEnd\n",
        "    cum <- cum+prb\n",
        "    if (cum>rU) notExceed <- FALSE\n",
        "    if (nJmp==1) TransArr <- array(TransM,c(nSt,nSt,1))\n",
        "    if (nJmp!=1) TransArr <- array(c(TransArr,TransMn),c(nSt,nSt,nJmp))\n",
        "    TransMn <- TransMn%*%TransM\n",
        "  }\n",
        "  ptm3 <- proc.time()[1]\n",
        "  if (nJmp==0){\n",
        "    Path <- list()\n",
        "    Path$St <- c(BgnSt,EndSt)\n",
        "    Path$Tm <- c(0,Tm)\n",
        "    Path$ptm <- c(ptm2-ptm1,ptm3-ptm2)\n",
        "    return(Path)\n",
        "  }\n",
        "  if (nJmp==1){\n",
        "    if (BgnSt==EndSt){\n",
        "      Path <- list()\n",
        "      Path$St <- c(BgnSt,EndSt)\n",
        "      Path$Tm <- c(0,Tm)\n",
        "      Path$ptm <- c(ptm2-ptm1,ptm3-ptm2)\n",
        "      return(Path)\n",
        "    }\n",
        "    if (BgnSt!=EndSt){\n",
        "      Path <- list()\n",
        "      Path$St <- c(BgnSt,EndSt,EndSt)\n",
        "      Path$Tm <- c(0,Tm*runif(1),Tm)\n",
        "      Path$ptm <- c(ptm2-ptm1,ptm3-ptm2)\n",
        "      return(Path)\n",
        "    }\n",
        "  }\n",
        "  JmpTmV <- Tm*sort(runif(nJmp))\n",
        "  JmpStV <- rep(0,(nJmp-1))\n",
        "  Prb1 <- TransM[BgnSt,]\n",
        "  for (i in 1:(nJmp-1)){\n",
        "    Prb2Mat <- TransArr[,,(nJmp-i)]\n",
        "    Prb2 <- Prb2Mat[,EndSt]\n",
        "    JmpStV[i] <-\n",
        "      sample(1:nSt,size=1,replace=TRUE,round(Prb1*Prb2,digits=10))\n",
        "    Prb1 <- TransM[JmpStV[i],]\n",
        "  }\n",
        "  ptm3 <- proc.time()[1]\n",
        "  JmpStV <- c(JmpStV,EndSt)\n",
        "  TrueSub <- c(BgnSt,JmpStV[1:nJmp])!=c(JmpStV[1:nJmp],EndSt)\n",
        "  Path <- list()\n",
        "  Path$St <- c(BgnSt,JmpStV[TrueSub],EndSt)\n",
        "  Path$Tm <- c(    0,JmpTmV[TrueSub],Tm)\n",
        "  Path$ptm <- c(ptm2-ptm1,ptm3-ptm2)\n",
        "  return(Path)\n",
        "}\n",
        "vNsbst <- function(BgnSt,EndSt,RateM,Tm){\n",
        "  nSt <- nrow(RateM)\n",
        "  StSp <- 1:nSt\n",
        "  Eigen <- eigen(RateM)\n",
        "  Lam <- Eigen$values\n",
        "  U <- Eigen$vectors\n",
        "  InvU <- solve(U)\n",
        "  PrbM <- U%*%diag(exp(Tm*Lam))%*%InvU\n",
        "  PrbBE <- PrbM[BgnSt,EndSt]\n",
        "  Mx <- max(-diag(RateM))\n",
        "  TransM <- diag(rep(1,times=nSt))+RateM/Mx\n",
        "  vN <- Mx*Tm*((TransM%*%PrbM)[BgnSt,EndSt])/PrbBE\n",
        "  return(vN)\n",
        "}\n",
        "vNsbstV <- function(BgnSt,EndSt,RateM,TmV){\n",
        "  len <- length(TmV)\n",
        "  NV <- rep(0,len)\n",
        "  for (i in 1:len) NV[i] <- vNsbst(BgnSt,EndSt,RateM,TmV[i])\n",
        "  return(NV)\n",
        "}"
      ],
      "metadata": {
        "id": "Qz_COA1azubz"
      },
      "execution_count": null,
      "outputs": []
    },
    {
      "cell_type": "markdown",
      "source": [
        "HKY rate matrix generator"
      ],
      "metadata": {
        "id": "I_WCT6iJ0LtF"
      }
    },
    {
      "cell_type": "code",
      "source": [
        "%%R\n",
        "HKYRate <- function(kappa,frq){\n",
        "  SymM <- matrix(c(0,kappa,1,1,\n",
        "                   kappa,0,1,1,\n",
        "                   1,1,0,kappa,\n",
        "                   1,1,kappa,0),\n",
        "                 nrow=4,ncol=4,byrow=TRUE)\n",
        "  FrqM <- matrix(rep(frq,4),byrow=TRUE,nrow=4,ncol=4)\n",
        "  RateM <- SymM*FrqM\n",
        "  for (i in 1:4) RateM[i,i] <- -sum(RateM[i,-i])\n",
        "  RateM <- RateM/sum(-diag(RateM)*frq)\n",
        "  return(RateM)\n",
        "}"
      ],
      "metadata": {
        "id": "vV9vzZak0MEz"
      },
      "execution_count": null,
      "outputs": []
    },
    {
      "cell_type": "markdown",
      "source": [
        "Simulating Figure 1"
      ],
      "metadata": {
        "id": "hpY0G-Vf0kEv"
      }
    },
    {
      "cell_type": "markdown",
      "source": [
        "Beginning state A and ending state A"
      ],
      "metadata": {
        "id": "3k7i92Jg3X5D"
      }
    },
    {
      "cell_type": "code",
      "source": [
        "%%R\n",
        "frq <- c(0.2,0.3,0.3,0.2)\n",
        "RateM <- HKYRate(2,c(0.2,0.3,0.3,0.2))\n",
        "BgnSt <- 1 ; EndSt <- 1\n",
        "BgnTm <- 0.01 ; EndTm <- 3 ; nSim <- 30\n",
        "TmV <- seq(BgnTm,EndTm,len=nSim)\n",
        "nSmpl <- 100\n",
        "par(mfrow=c(3,3))\n",
        "cat(\"Rejection sampling\",\"\\n\")\n",
        "p.acc <- AccPrbV(BgnSt,EndSt,RateM,TmV)\n",
        "n.sbst <- NsbstV(BgnSt,EndSt,RateM,TmV)\n",
        "n.oper <- n.sbst/p.acc\n",
        "cpu.r.mat <- matrix(0,nrow=nSim,ncol=2)\n",
        "colnames(cpu.r.mat) <- c(\"InitR\",\"SmplR\")\n",
        "for (sim in 1:nSim){\n",
        "  cat(sim)\n",
        "  cpu.r <- c(0,0)\n",
        "  for (smpl in 1:nSmpl){\n",
        "    cpu.r <- cpu.r+RejectSampl(BgnSt,EndSt,RateM,TmV[sim])$ptm\n",
        "  }\n",
        "  cpu.r.mat[sim,] <- cpu.r\n",
        "}\n",
        "cat(\"\\n\")\n",
        "cat(\"Direct sampling\",\"\\n\")\n",
        "cpu.d.mat <- matrix(0,nrow=nSim,ncol=2)\n",
        "colnames(cpu.r.mat) <- c(\"InitD\",\"SmplD\")\n",
        "for (sim in 1:nSim){\n",
        "  cat(sim)\n",
        "  cpu.d <- c(0,0)\n",
        "  for (smpl in 1:nSmpl){\n",
        "    cpu.d <- cpu.d+DirectSampl(BgnSt,EndSt,RateM,TmV[sim])$ptm\n",
        "  }\n",
        "  cpu.d.mat[sim,] <- cpu.d\n",
        "}\n",
        "cat(\"\\n\")\n",
        "cat(\"Uniformization\",\"\\n\")\n",
        "cpu.u.mat <- matrix(0,nrow=nSim,ncol=2)\n",
        "colnames(cpu.r.mat) <- c(\"InitU\",\"SmplU\")\n",
        "for (sim in 1:nSim){\n",
        "  cat(sim)\n",
        "  cpu.u <- c(0,0)\n",
        "  for (smpl in 1:nSmpl){\n",
        "    cpu.u <- cpu.u+UniformSampl(BgnSt,EndSt,RateM,TmV[sim])$ptm\n",
        "  }\n",
        "  cpu.u.mat[sim,] <- cpu.u\n",
        "}"
      ],
      "metadata": {
        "colab": {
          "base_uri": "https://localhost:8080/"
        },
        "id": "OYQ0K_Nt0sdb",
        "outputId": "fff70895-93df-4129-882c-cb2a58d97620"
      },
      "execution_count": null,
      "outputs": [
        {
          "output_type": "stream",
          "name": "stdout",
          "text": [
            "Rejection sampling \n",
            "123456789101112131415161718192021222324252627282930\n",
            "Direct sampling \n",
            "123456789101112131415161718192021222324252627282930\n",
            "Uniformization \n",
            "123456789101112131415161718192021222324252627282930"
          ]
        }
      ]
    },
    {
      "cell_type": "code",
      "source": [
        "%%R\n",
        "colors <- c(\"blue\", \"green\", \"red\")\n",
        "symbols <- c(16, 17, 18)\n",
        "cpu_rejection <- rowSums(cpu.r.mat)\n",
        "cpu_direct <- rowSums(cpu.d.mat)\n",
        "cpu_uniformization <- rowSums(cpu.u.mat)\n",
        "y_max <- max(cpu_rejection, cpu_direct, cpu_uniformization)\n",
        "plot(TmV, cpu_rejection, type=\"b\", pch=symbols[1], col=colors[1], lwd=2, ylim=c(0, y_max),\n",
        "     xlab=\"Time\", ylab=\"CPU\", main=\"Beginning state A and ending state A\")\n",
        "lines(TmV, cpu_direct, type=\"b\", pch=symbols[2], col=colors[2], lwd=2)\n",
        "lines(TmV, cpu_uniformization, type=\"b\", pch=symbols[3], col=colors[3], lwd=2)\n",
        "legend(\"topright\", legend=c(\"Rejection\", \"Direct\", \"Uniformization\"),\n",
        "       col=colors, pch=symbols, lwd=2)"
      ],
      "metadata": {
        "colab": {
          "base_uri": "https://localhost:8080/",
          "height": 497
        },
        "id": "wc2FTzJU0kfH",
        "outputId": "32110e7c-9ce7-440d-87ba-e4248439d0af"
      },
      "execution_count": null,
      "outputs": [
        {
          "output_type": "display_data",
          "data": {
            "image/png": "[encoded data removed]"
          },
          "metadata": {}
        }
      ]
    },
    {
      "cell_type": "markdown",
      "source": [
        "Beginning state A and ending state G"
      ],
      "metadata": {
        "id": "w-qL8oQT3gQc"
      }
    },
    {
      "cell_type": "code",
      "source": [
        "%%R\n",
        "frq <- c(0.2,0.3,0.3,0.2)\n",
        "RateM <- HKYRate(2,c(0.2,0.3,0.3,0.2))\n",
        "BgnSt <- 1 ; EndSt <- 2\n",
        "BgnTm <- 0.01 ; EndTm <- 3 ; nSim <- 30\n",
        "TmV <- seq(BgnTm,EndTm,len=nSim)\n",
        "nSmpl <- 100\n",
        "par(mfrow=c(3,3))\n",
        "cat(\"Rejection sampling\",\"\\n\")\n",
        "p.acc <- AccPrbV(BgnSt,EndSt,RateM,TmV)\n",
        "n.sbst <- NsbstV(BgnSt,EndSt,RateM,TmV)\n",
        "n.oper <- n.sbst/p.acc\n",
        "cpu.r.mat <- matrix(0,nrow=nSim,ncol=2)\n",
        "colnames(cpu.r.mat) <- c(\"InitR\",\"SmplR\")\n",
        "for (sim in 1:nSim){\n",
        "  cat(sim)\n",
        "  cpu.r <- c(0,0)\n",
        "  for (smpl in 1:nSmpl){\n",
        "    cpu.r <- cpu.r+RejectSampl(BgnSt,EndSt,RateM,TmV[sim])$ptm\n",
        "  }\n",
        "  cpu.r.mat[sim,] <- cpu.r\n",
        "}\n",
        "cat(\"\\n\")\n",
        "cat(\"Direct sampling\",\"\\n\")\n",
        "cpu.d.mat <- matrix(0,nrow=nSim,ncol=2)\n",
        "colnames(cpu.r.mat) <- c(\"InitD\",\"SmplD\")\n",
        "for (sim in 1:nSim){\n",
        "  cat(sim)\n",
        "  cpu.d <- c(0,0)\n",
        "  for (smpl in 1:nSmpl){\n",
        "    cpu.d <- cpu.d+DirectSampl(BgnSt,EndSt,RateM,TmV[sim])$ptm\n",
        "  }\n",
        "  cpu.d.mat[sim,] <- cpu.d\n",
        "}\n",
        "cat(\"\\n\")\n",
        "cat(\"Uniformization\",\"\\n\")\n",
        "cpu.u.mat <- matrix(0,nrow=nSim,ncol=2)\n",
        "colnames(cpu.r.mat) <- c(\"InitU\",\"SmplU\")\n",
        "for (sim in 1:nSim){\n",
        "  cat(sim)\n",
        "  cpu.u <- c(0,0)\n",
        "  for (smpl in 1:nSmpl){\n",
        "    cpu.u <- cpu.u+UniformSampl(BgnSt,EndSt,RateM,TmV[sim])$ptm\n",
        "  }\n",
        "  cpu.u.mat[sim,] <- cpu.u\n",
        "}"
      ],
      "metadata": {
        "colab": {
          "base_uri": "https://localhost:8080/"
        },
        "id": "SQx_dMp-3oJY",
        "outputId": "abf0c575-9727-41db-cbb5-1605d43d4cf3"
      },
      "execution_count": null,
      "outputs": [
        {
          "output_type": "stream",
          "name": "stdout",
          "text": [
            "Rejection sampling \n",
            "evaluating no 1 out of 30 \n",
            "evaluating no 2 out of 30 \n",
            "evaluating no 3 out of 30 \n",
            "evaluating no 4 out of 30 \n",
            "evaluating no 5 out of 30 \n",
            "evaluating no 6 out of 30 \n",
            "evaluating no 7 out of 30 \n",
            "evaluating no 8 out of 30 \n",
            "evaluating no 9 out of 30 \n",
            "evaluating no 10 out of 30 \n",
            "evaluating no 11 out of 30 \n",
            "evaluating no 12 out of 30 \n",
            "evaluating no 13 out of 30 \n",
            "evaluating no 14 out of 30 \n",
            "evaluating no 15 out of 30 \n",
            "evaluating no 16 out of 30 \n",
            "evaluating no 17 out of 30 \n",
            "evaluating no 18 out of 30 \n",
            "evaluating no 19 out of 30 \n",
            "evaluating no 20 out of 30 \n",
            "evaluating no 21 out of 30 \n",
            "evaluating no 22 out of 30 \n",
            "evaluating no 23 out of 30 \n",
            "evaluating no 24 out of 30 \n",
            "evaluating no 25 out of 30 \n",
            "evaluating no 26 out of 30 \n",
            "evaluating no 27 out of 30 \n",
            "evaluating no 28 out of 30 \n",
            "evaluating no 29 out of 30 \n",
            "evaluating no 30 out of 30 \n",
            "123456789101112131415161718192021222324252627282930\n",
            "Direct sampling \n",
            "123456789101112131415161718192021222324252627282930\n",
            "Uniformization \n",
            "123456789101112131415161718192021222324252627282930"
          ]
        }
      ]
    },
    {
      "cell_type": "code",
      "source": [
        "%%R\n",
        "colors <- c(\"blue\", \"green\", \"red\")\n",
        "symbols <- c(16, 17, 18)\n",
        "cpu_rejection <- rowSums(cpu.r.mat)\n",
        "cpu_direct <- rowSums(cpu.d.mat)\n",
        "cpu_uniformization <- rowSums(cpu.u.mat)\n",
        "y_max <- max(cpu_rejection, cpu_direct, cpu_uniformization)\n",
        "plot(TmV, cpu_rejection, type=\"b\", pch=symbols[1], col=colors[1], lwd=2, ylim=c(0, y_max),\n",
        "     xlab=\"Time\", ylab=\"CPU\", main=\"Beginning state A and ending state G\")\n",
        "lines(TmV, cpu_direct, type=\"b\", pch=symbols[2], col=colors[2], lwd=2)\n",
        "lines(TmV, cpu_uniformization, type=\"b\", pch=symbols[3], col=colors[3], lwd=2)\n",
        "legend(\"topright\", legend=c(\"Rejection\", \"Direct\", \"Uniformization\"),\n",
        "       col=colors, pch=symbols, lwd=2)"
      ],
      "metadata": {
        "colab": {
          "base_uri": "https://localhost:8080/",
          "height": 497
        },
        "id": "bSR6HI-V3-Jp",
        "outputId": "21829b23-62c2-47bd-fef0-b32921f2999a"
      },
      "execution_count": null,
      "outputs": [
        {
          "output_type": "display_data",
          "data": {
            "image/png": "[encoded data removed]"
          },
          "metadata": {}
        }
      ]
    },
    {
      "cell_type": "markdown",
      "source": [
        "Simulating Figure 4"
      ],
      "metadata": {
        "id": "0XgyuOfI4rf4"
      }
    },
    {
      "cell_type": "markdown",
      "source": [
        "Beginning state A and ending state A"
      ],
      "metadata": {
        "id": "PPhjHFqs4_F8"
      }
    },
    {
      "cell_type": "code",
      "source": [
        "%%R\n",
        "frq <- c(0.2,0.3,0.3,0.2)\n",
        "RateM <- HKYRate(2,c(0.2,0.3,0.3,0.2))\n",
        "BgnSt <- 1 ; EndSt <- 1\n",
        "BgnTm <- 0.01 ; EndTm <- 3 ; nSim <- 30\n",
        "TmV <- seq(BgnTm,EndTm,len=nSim)\n",
        "nSmpl <- 100\n",
        "par(mfrow=c(3,3))\n",
        "cat(\"Rejection sampling\",\"\\n\")\n",
        "p.acc <- AccPrbV(BgnSt,EndSt,RateM,TmV)\n",
        "n.sbst <- NsbstV(BgnSt,EndSt,RateM,TmV)\n",
        "n.oper <- n.sbst/p.acc\n",
        "cpu.r.mat <- matrix(0,nrow=nSim,ncol=2)\n",
        "colnames(cpu.r.mat) <- c(\"InitR\",\"SmplR\")\n",
        "for (sim in 1:nSim){\n",
        "  cat(sim)\n",
        "  cpu.r <- c(0,0)\n",
        "  for (smpl in 1:nSmpl){\n",
        "    cpu.r <- cpu.r+RejectSampl(BgnSt,EndSt,RateM,TmV[sim])$ptm\n",
        "  }\n",
        "  cpu.r.mat[sim,] <- cpu.r\n",
        "}\n",
        "cat(\"\\n\")\n",
        "cat(\"\\n\")\n",
        "cat(\"Rejection sampling complexity: HKY model with beginning state A and ending state A\")\n",
        "plot(TmV,p.acc,type=\"l\",ylim=c(0,1),\n",
        "    xlab=\"Time\",ylab=\"Acceptance probability\",\n",
        "    cex.axis=2,cex.lab=1.4)\n",
        "abline(h=frq[EndSt],lty=\"dashed\")\n",
        "lines(TmV,AccPrbAppxV(BgnSt,EndSt,RateM,TmV),lty=\"dashed\")\n",
        "plot(TmV,cpu.r.mat[,\"InitR\"],ylim=1.1*c(0,max(cpu.r.mat[,1])),\n",
        "     xlab=\"Time\",ylab=\"Initialization CPU\",\n",
        "     cex.axis=2,cex.lab=1.4)\n",
        "x1 <- 1/p.acc\n",
        "alpha1 <- 1/(t(x1)%*%x1)*x1%*%cpu.r.mat[,1]\n",
        "points(TmV,alpha1*x1,type=\"l\",col=\"blue\")\n",
        "text(0.1,0.97*max(cpu.r.mat[,1]),pos=4,cex=1.3,\n",
        "     paste(\"alpha=\",round(alpha1,digits=4),sep=\"\"))\n",
        "plot(TmV,n.sbst,type=\"l\",ylim=c(0,max(n.sbst)),\n",
        "    xlab=\"Time\",ylab=\"Expected number of substitutions\",\n",
        "    cex.axis=2,cex.lab=1.4)\n",
        "plot(TmV,cpu.r.mat[,2],ylim=1.1*c(0,max(cpu.r.mat[,2])),\n",
        "     xlab=\"Time\",ylab=\"Sampling CPU\",\n",
        "     cex.axis=2,cex.lab=1.4)\n",
        "x2 <- n.oper\n",
        "alpha2 <- 1/(t(x2)%*%x2)*x2%*%cpu.r.mat[,2]\n",
        "points(TmV,alpha2*x2,type=\"l\",col=\"green\")\n",
        "text(0.1,0.97*max(cpu.r.mat[,2]),pos=4,cex=1.3,\n",
        "     paste(\"beta=\",round(alpha2,digits=4),sep=\"\"))"
      ],
      "metadata": {
        "colab": {
          "base_uri": "https://localhost:8080/",
          "height": 566
        },
        "id": "6WFkNdHx4rFB",
        "outputId": "63fd9935-50eb-42a7-92de-535db8c4648c"
      },
      "execution_count": null,
      "outputs": [
        {
          "output_type": "stream",
          "name": "stdout",
          "text": [
            "Rejection sampling \n",
            "123456789101112131415161718192021222324252627282930\n",
            "\n",
            "Rejection sampling complexity: HKY model with beginning state A and ending state A"
          ]
        },
        {
          "output_type": "display_data",
          "data": {
            "image/png": "[encoded data removed]"
          },
          "metadata": {}
        }
      ]
    },
    {
      "cell_type": "markdown",
      "source": [
        "Beginning state A and ending state G"
      ],
      "metadata": {
        "id": "FieW_llT69Ur"
      }
    },
    {
      "cell_type": "code",
      "source": [
        "%%R\n",
        "frq <- c(0.2,0.3,0.3,0.2)\n",
        "RateM <- HKYRate(2,c(0.2,0.3,0.3,0.2))\n",
        "BgnSt <- 1 ; EndSt <- 2\n",
        "BgnTm <- 0.01 ; EndTm <- 3 ; nSim <- 30\n",
        "TmV <- seq(BgnTm,EndTm,len=nSim)\n",
        "nSmpl <- 100\n",
        "par(mfrow=c(3,3))\n",
        "cat(\"Rejection sampling\",\"\\n\")\n",
        "p.acc <- AccPrbV(BgnSt,EndSt,RateM,TmV)\n",
        "n.sbst <- NsbstV(BgnSt,EndSt,RateM,TmV)\n",
        "n.oper <- n.sbst/p.acc\n",
        "cpu.r.mat <- matrix(0,nrow=nSim,ncol=2)\n",
        "colnames(cpu.r.mat) <- c(\"InitR\",\"SmplR\")\n",
        "for (sim in 1:nSim){\n",
        "  cat(sim)\n",
        "  cpu.r <- c(0,0)\n",
        "  for (smpl in 1:nSmpl){\n",
        "    cpu.r <- cpu.r+RejectSampl(BgnSt,EndSt,RateM,TmV[sim])$ptm\n",
        "  }\n",
        "  cpu.r.mat[sim,] <- cpu.r\n",
        "}\n",
        "cat(\"\\n\")\n",
        "cat(\"\\n\")\n",
        "cat(\"Rejection sampling complexity: HKY model with beginning state A and ending state G\")\n",
        "plot(TmV,p.acc,type=\"l\",ylim=c(0,1),\n",
        "    xlab=\"Time\",ylab=\"Acceptance probability\",\n",
        "    cex.axis=2,cex.lab=1.4)\n",
        "abline(h=frq[EndSt],lty=\"dashed\")\n",
        "lines(TmV,AccPrbAppxV(BgnSt,EndSt,RateM,TmV),lty=\"dashed\")\n",
        "plot(TmV,cpu.r.mat[,\"InitR\"],ylim=1.1*c(0,max(cpu.r.mat[,1])),\n",
        "     xlab=\"Time\",ylab=\"Initialization CPU\",\n",
        "     cex.axis=2,cex.lab=1.4)\n",
        "x1 <- 1/p.acc\n",
        "alpha1 <- 1/(t(x1)%*%x1)*x1%*%cpu.r.mat[,1]\n",
        "points(TmV,alpha1*x1,type=\"l\",col=\"blue\")\n",
        "text(0.1,0.97*max(cpu.r.mat[,1]),pos=4,cex=1.3,\n",
        "     paste(\"alpha=\",round(alpha1,digits=4),sep=\"\"))\n",
        "plot(TmV,n.sbst,type=\"l\",ylim=c(0,max(n.sbst)),\n",
        "    xlab=\"Time\",ylab=\"Expected number of substitutions\",\n",
        "    cex.axis=2,cex.lab=1.4)\n",
        "plot(TmV,cpu.r.mat[,2],ylim=1.1*c(0,max(cpu.r.mat[,2])),\n",
        "     xlab=\"Time\",ylab=\"Sampling CPU\",\n",
        "     cex.axis=2,cex.lab=1.4)\n",
        "x2 <- n.oper\n",
        "alpha2 <- 1/(t(x2)%*%x2)*x2%*%cpu.r.mat[,2]\n",
        "points(TmV,alpha2*x2,type=\"l\",col=\"green\")\n",
        "text(0.1,0.97*max(cpu.r.mat[,2]),pos=4,cex=1.3,\n",
        "     paste(\"beta=\",round(alpha2,digits=4),sep=\"\"))"
      ],
      "metadata": {
        "colab": {
          "base_uri": "https://localhost:8080/",
          "height": 1000
        },
        "id": "jwzcjBnC6-iu",
        "outputId": "d2217f14-04f7-4788-8694-10d7e72e0b2e"
      },
      "execution_count": null,
      "outputs": [
        {
          "output_type": "stream",
          "name": "stdout",
          "text": [
            "Rejection sampling \n",
            "evaluating no 1 out of 30 \n",
            "evaluating no 2 out of 30 \n",
            "evaluating no 3 out of 30 \n",
            "evaluating no 4 out of 30 \n",
            "evaluating no 5 out of 30 \n",
            "evaluating no 6 out of 30 \n",
            "evaluating no 7 out of 30 \n",
            "evaluating no 8 out of 30 \n",
            "evaluating no 9 out of 30 \n",
            "evaluating no 10 out of 30 \n",
            "evaluating no 11 out of 30 \n",
            "evaluating no 12 out of 30 \n",
            "evaluating no 13 out of 30 \n",
            "evaluating no 14 out of 30 \n",
            "evaluating no 15 out of 30 \n",
            "evaluating no 16 out of 30 \n",
            "evaluating no 17 out of 30 \n",
            "evaluating no 18 out of 30 \n",
            "evaluating no 19 out of 30 \n",
            "evaluating no 20 out of 30 \n",
            "evaluating no 21 out of 30 \n",
            "evaluating no 22 out of 30 \n",
            "evaluating no 23 out of 30 \n",
            "evaluating no 24 out of 30 \n",
            "evaluating no 25 out of 30 \n",
            "evaluating no 26 out of 30 \n",
            "evaluating no 27 out of 30 \n",
            "evaluating no 28 out of 30 \n",
            "evaluating no 29 out of 30 \n",
            "evaluating no 30 out of 30 \n",
            "123456789101112131415161718192021222324252627282930\n",
            "\n",
            "Rejection sampling complexity: HKY model with beginning state A and ending state G"
          ]
        },
        {
          "output_type": "display_data",
          "data": {
            "image/png": "[encoded data removed]"
          },
          "metadata": {}
        }
      ]
    },
    {
      "cell_type": "markdown",
      "source": [
        "Simulating Figure 5"
      ],
      "metadata": {
        "id": "owwxDuZE7SUs"
      }
    },
    {
      "cell_type": "markdown",
      "source": [
        "Uploading Condon Freq"
      ],
      "metadata": {
        "id": "5XNizxEt7eF_"
      }
    },
    {
      "cell_type": "code",
      "source": [
        "from google.colab import files\n",
        "uploaded = files.upload()"
      ],
      "metadata": {
        "colab": {
          "base_uri": "https://localhost:8080/",
          "height": 73
        },
        "id": "tUqseGxj7VYr",
        "outputId": "d28f6dd3-353a-4359-dcae-460cb2588a2e"
      },
      "execution_count": null,
      "outputs": [
        {
          "output_type": "display_data",
          "data": {
            "text/plain": [
              "<IPython.core.display.HTML object>"
            ],
            "text/html": [
              "\n",
              "     <input type=\"file\" id=\"files-b2c34083-b1db-481c-bce5-6041529f457d\" name=\"files[]\" multiple disabled\n",
              "        style=\"border:none\" />\n",
              "     <output id=\"result-b2c34083-b1db-481c-bce5-6041529f457d\">\n",
              "      Upload widget is only available when the cell has been executed in the\n",
              "      current browser session. Please rerun this cell to enable.\n",
              "      </output>\n",
              "      <script>// Copyright 2017 Google LLC\n",
              "//\n",
              "// Licensed under the Apache License, Version 2.0 (the \"License\");\n",
              "// you may not use this file except in compliance with the License.\n",
              "// You may obtain a copy of the License at\n",
              "//\n",
              "//      http://www.apache.org/licenses/LICENSE-2.0\n",
              "//\n",
              "// Unless required by applicable law or agreed to in writing, software\n",
              "// distributed under the License is distributed on an \"AS IS\" BASIS,\n",
              "// WITHOUT WARRANTIES OR CONDITIONS OF ANY KIND, either express or implied.\n",
              "// See the License for the specific language governing permissions and\n",
              "// limitations under the License.\n",
              "\n",
              "/**\n",
              " * @fileoverview Helpers for google.colab Python module.\n",
              " */\n",
              "(function(scope) {\n",
              "function span(text, styleAttributes = {}) {\n",
              "  const element = document.createElement('span');\n",
              "  element.textContent = text;\n",
              "  for (const key of Object.keys(styleAttributes)) {\n",
              "    element.style[key] = styleAttributes[key];\n",
              "  }\n",
              "  return element;\n",
              "}\n",
              "\n",
              "// Max number of bytes which will be uploaded at a time.\n",
              "const MAX_PAYLOAD_SIZE = 100 * 1024;\n",
              "\n",
              "function _uploadFiles(inputId, outputId) {\n",
              "  const steps = uploadFilesStep(inputId, outputId);\n",
              "  const outputElement = document.getElementById(outputId);\n",
              "  // Cache steps on the outputElement to make it available for the next call\n",
              "  // to uploadFilesContinue from Python.\n",
              "  outputElement.steps = steps;\n",
              "\n",
              "  return _uploadFilesContinue(outputId);\n",
              "}\n",
              "\n",
              "// This is roughly an async generator (not supported in the browser yet),\n",
              "// where there are multiple asynchronous steps and the Python side is going\n",
              "// to poll for completion of each step.\n",
              "// This uses a Promise to block the python side on completion of each step,\n",
              "// then passes the result of the previous step as the input to the next step.\n",
              "function _uploadFilesContinue(outputId) {\n",
              "  const outputElement = document.getElementById(outputId);\n",
              "  const steps = outputElement.steps;\n",
              "\n",
              "  const next = steps.next(outputElement.lastPromiseValue);\n",
              "  return Promise.resolve(next.value.promise).then((value) => {\n",
              "    // Cache the last promise value to make it available to the next\n",
              "    // step of the generator.\n",
              "    outputElement.lastPromiseValue = value;\n",
              "    return next.value.response;\n",
              "  });\n",
              "}\n",
              "\n",
              "/**\n",
              " * Generator function which is called between each async step of the upload\n",
              " * process.\n",
              " * @param {string} inputId Element ID of the input file picker element.\n",
              " * @param {string} outputId Element ID of the output display.\n",
              " * @return {!Iterable<!Object>} Iterable of next steps.\n",
              " */\n",
              "function* uploadFilesStep(inputId, outputId) {\n",
              "  const inputElement = document.getElementById(inputId);\n",
              "  inputElement.disabled = false;\n",
              "\n",
              "  const outputElement = document.getElementById(outputId);\n",
              "  outputElement.innerHTML = '';\n",
              "\n",
              "  const pickedPromise = new Promise((resolve) => {\n",
              "    inputElement.addEventListener('change', (e) => {\n",
              "      resolve(e.target.files);\n",
              "    });\n",
              "  });\n",
              "\n",
              "  const cancel = document.createElement('button');\n",
              "  inputElement.parentElement.appendChild(cancel);\n",
              "  cancel.textContent = 'Cancel upload';\n",
              "  const cancelPromise = new Promise((resolve) => {\n",
              "    cancel.onclick = () => {\n",
              "      resolve(null);\n",
              "    };\n",
              "  });\n",
              "\n",
              "  // Wait for the user to pick the files.\n",
              "  const files = yield {\n",
              "    promise: Promise.race([pickedPromise, cancelPromise]),\n",
              "    response: {\n",
              "      action: 'starting',\n",
              "    }\n",
              "  };\n",
              "\n",
              "  cancel.remove();\n",
              "\n",
              "  // Disable the input element since further picks are not allowed.\n",
              "  inputElement.disabled = true;\n",
              "\n",
              "  if (!files) {\n",
              "    return {\n",
              "      response: {\n",
              "        action: 'complete',\n",
              "      }\n",
              "    };\n",
              "  }\n",
              "\n",
              "  for (const file of files) {\n",
              "    const li = document.createElement('li');\n",
              "    li.append(span(file.name, {fontWeight: 'bold'}));\n",
              "    li.append(span(\n",
              "        `(${file.type || 'n/a'}) - ${file.size} bytes, ` +\n",
              "        `last modified: ${\n",
              "            file.lastModifiedDate ? file.lastModifiedDate.toLocaleDateString() :\n",
              "                                    'n/a'} - `));\n",
              "    const percent = span('0% done');\n",
              "    li.appendChild(percent);\n",
              "\n",
              "    outputElement.appendChild(li);\n",
              "\n",
              "    const fileDataPromise = new Promise((resolve) => {\n",
              "      const reader = new FileReader();\n",
              "      reader.onload = (e) => {\n",
              "        resolve(e.target.result);\n",
              "      };\n",
              "      reader.readAsArrayBuffer(file);\n",
              "    });\n",
              "    // Wait for the data to be ready.\n",
              "    let fileData = yield {\n",
              "      promise: fileDataPromise,\n",
              "      response: {\n",
              "        action: 'continue',\n",
              "      }\n",
              "    };\n",
              "\n",
              "    // Use a chunked sending to avoid message size limits. See b/62115660.\n",
              "    let position = 0;\n",
              "    do {\n",
              "      const length = Math.min(fileData.byteLength - position, MAX_PAYLOAD_SIZE);\n",
              "      const chunk = new Uint8Array(fileData, position, length);\n",
              "      position += length;\n",
              "\n",
              "      const base64 = btoa(String.fromCharCode.apply(null, chunk));\n",
              "      yield {\n",
              "        response: {\n",
              "          action: 'append',\n",
              "          file: file.name,\n",
              "          data: base64,\n",
              "        },\n",
              "      };\n",
              "\n",
              "      let percentDone = fileData.byteLength === 0 ?\n",
              "          100 :\n",
              "          Math.round((position / fileData.byteLength) * 100);\n",
              "      percent.textContent = `${percentDone}% done`;\n",
              "\n",
              "    } while (position < fileData.byteLength);\n",
              "  }\n",
              "\n",
              "  // All done.\n",
              "  yield {\n",
              "    response: {\n",
              "      action: 'complete',\n",
              "    }\n",
              "  };\n",
              "}\n",
              "\n",
              "scope.google = scope.google || {};\n",
              "scope.google.colab = scope.google.colab || {};\n",
              "scope.google.colab._files = {\n",
              "  _uploadFiles,\n",
              "  _uploadFilesContinue,\n",
              "};\n",
              "})(self);\n",
              "</script> "
            ]
          },
          "metadata": {}
        },
        {
          "output_type": "stream",
          "name": "stdout",
          "text": [
            "Saving codon.mat to codon.mat\n"
          ]
        }
      ]
    },
    {
      "cell_type": "markdown",
      "source": [
        "GY rate matrix generator"
      ],
      "metadata": {
        "id": "iNevqv857r8x"
      }
    },
    {
      "cell_type": "code",
      "source": [
        "%%R\n",
        "codon.mat <- read.table(file=\"/content/codon.mat\", header=TRUE)\n",
        "aa <- codon.mat[,\"aa\"]\n",
        "codon.freq <- codon.mat[,\"frq\"]\n",
        "purine <- c(TRUE,FALSE,TRUE,FALSE)\n",
        "stop.codon <- rep(FALSE,64)\n",
        "stop.codon[which(aa==\"Stp\")] <- TRUE\n",
        "syn.ts <- matrix(rep(0,64^2),nrow=64,ncol=64)\n",
        "syn.tv <- matrix(rep(0,64^2),nrow=64,ncol=64)\n",
        "nonsyn.ts <- matrix(rep(0,64^2),nrow=64,ncol=64)\n",
        "nonsyn.tv <- matrix(rep(0,64^2),nrow=64,ncol=64)\n",
        "for (i1 in 1:4){\n",
        "  for (i2 in 1:4){\n",
        "    for (i3 in 1:4){\n",
        "      rw <- (i1-1)*16+(i2-1)*4+i3\n",
        "      for (j1 in 1:4){\n",
        "        cl <- (j1-1)*16+(i2-1)*4+i3\n",
        "        if (j1!=i1){\n",
        "          ts <- ifelse(purine[i1]==purine[j1],1,0)\n",
        "          syn <- ifelse(aa[rw]==aa[cl],1,0)\n",
        "          syn.ts[rw,cl] <- syn*ts\n",
        "          syn.tv[rw,cl] <- syn*(1-ts)\n",
        "          nonsyn.ts[rw,cl] <- (1-syn)*ts\n",
        "          nonsyn.tv[rw,cl] <- (1-syn)*(1-ts)\n",
        "        }\n",
        "      }\n",
        "      for (j2 in 1:4) {\n",
        "        cl <- (i1-1)*16+(j2-1)*4+i3\n",
        "        if (j2!=i2){\n",
        "          ts <- ifelse(purine[i2]==purine[j2],1,0)\n",
        "          syn <- ifelse(aa[rw]==aa[cl],1,0)\n",
        "          syn.ts[rw,cl] <- syn*ts\n",
        "          syn.tv[rw,cl] <- syn*(1-ts)\n",
        "          nonsyn.ts[rw,cl] <- (1-syn)*ts\n",
        "          nonsyn.tv[rw,cl] <- (1-syn)*(1-ts)\n",
        "        }\n",
        "      }\n",
        "      for (j3 in 1:4) {\n",
        "        cl <- (i1-1)*16+(i2-1)*4+j3\n",
        "        if (j3!=i3){\n",
        "          ts <- ifelse(purine[i3]==purine[j3],1,0)\n",
        "          syn <- ifelse(aa[rw]==aa[cl],1,0)\n",
        "          syn.ts[rw,cl] <- syn*ts\n",
        "          syn.tv[rw,cl] <- syn*(1-ts)\n",
        "          nonsyn.ts[rw,cl] <- (1-syn)*ts\n",
        "          nonsyn.tv[rw,cl] <- (1-syn)*(1-ts)\n",
        "        }\n",
        "      }\n",
        "    }\n",
        "  }\n",
        "}\n",
        "GYRate <- function(kappa,omega,codon.freq){\n",
        "  GY.r <- kappa*syn.ts+syn.tv+omega*kappa*nonsyn.ts+omega*nonsyn.tv\n",
        "  GY.r <- GY.r%*%diag(codon.freq)\n",
        "  GY.r <- GY.r[!stop.codon,!stop.codon]\n",
        "  if (identical(all.equal(sum(codon.freq[!stop.codon]),1),FALSE)) {\n",
        "    cat(\"codon.freq does not add to one\",\"\\n\")\n",
        "  }\n",
        "  scl <- sum(codon.freq[!stop.codon]*GY.r)\n",
        "  GY.r <- GY.r/scl\n",
        "  for (i in 1:61) GY.r[i,i] <- -sum(GY.r[i,-i])\n",
        "  return(GY.r)\n",
        "}"
      ],
      "metadata": {
        "id": "m3c5UTSm7oKu"
      },
      "execution_count": null,
      "outputs": []
    },
    {
      "cell_type": "code",
      "source": [
        "%%R\n",
        "par(mfrow=c(1,3))\n",
        "RateM <- GYRate(2,0.01,codon.freq)\n",
        "BgnSt <- 1 ; EndSt <- 3\n",
        "BgnTm <- 0.01 ; EndTm <- 2 ; nSim <- 50\n",
        "TmV <- seq(BgnTm,EndTm,len=nSim)\n",
        "nSmpl <- 250\n",
        "p.acc <- AccPrbV(BgnSt,EndSt,RateM,TmV)\n",
        "cat(\"Acceptance probabilities for rejection sampling: GY model with beginning state AAA and various ending states\")\n",
        "plot(TmV,p.acc,type=\"l\",\n",
        "     xlab=\"Time\",ylab=\"Acceptance probability\", main=\"Ending State AAG\",\n",
        "     cex.axis=2,cex.lab=1.4)\n",
        "lines(TmV,AccPrbAppxV(BgnSt,EndSt,RateM,TmV),lty=\"dashed\")\n",
        "RateM <- GYRate(2,0.01,codon.freq)\n",
        "BgnSt <- 1 ; EndSt <- 2\n",
        "p.acc <- AccPrbV(BgnSt,EndSt,RateM,TmV)\n",
        "plot(TmV,p.acc,type=\"l\",\n",
        "     xlab=\"Time\",ylab=\"Acceptance probability\", main=\"Ending State AAC\",\n",
        "     cex.axis=2,cex.lab=1.4)\n",
        "lines(TmV,AccPrbAppxV(BgnSt,EndSt,RateM,TmV),lty=\"dashed\")\n",
        "RateM <- GYRate(2,0.01,codon.freq)\n",
        "BgnSt <- 1 ; EndSt <- 61\n",
        "p.acc <- AccPrbV(BgnSt,EndSt,RateM,TmV)\n",
        "plot(TmV,p.acc,type=\"l\",\n",
        "     xlab=\"Time\",ylab=\"Acceptance probability\", main=\"Ending State TTT\",\n",
        "     cex.axis=2,cex.lab=1.4,log=\"y\")"
      ],
      "metadata": {
        "colab": {
          "base_uri": "https://localhost:8080/",
          "height": 514
        },
        "id": "qY4B-jFA8Glk",
        "outputId": "8371abeb-63c5-47fc-a08e-2ee6c61f4954"
      },
      "execution_count": null,
      "outputs": [
        {
          "output_type": "stream",
          "name": "stdout",
          "text": [
            "Acceptance probabilities for rejection sampling: GY model with beginning state AAA and various ending states"
          ]
        },
        {
          "output_type": "display_data",
          "data": {
            "image/png": "[encoded data removed]"
          },
          "metadata": {}
        }
      ]
    },
    {
      "cell_type": "markdown",
      "source": [
        "Simulating Figure 6"
      ],
      "metadata": {
        "id": "IHxvWoir9no1"
      }
    },
    {
      "cell_type": "markdown",
      "source": [
        "Beginning state A and ending state A"
      ],
      "metadata": {
        "id": "Nb8pVdjx-7mg"
      }
    },
    {
      "cell_type": "code",
      "source": [
        "%%R\n",
        "frq <- c(0.2,0.3,0.3,0.2)\n",
        "RateM <- HKYRate(2,c(0.2,0.3,0.3,0.2))\n",
        "BgnSt <- 1 ; EndSt <- 1\n",
        "BgnTm <- 0.01 ; EndTm <- 3 ; nSim <- 30\n",
        "TmV <- seq(BgnTm,EndTm,len=nSim)\n",
        "nSmpl <- 100\n",
        "par(mfrow=c(3,3))\n",
        "cat(\"Direct sampling\",\"\\n\")\n",
        "cpu.d.mat <- matrix(0,nrow=nSim,ncol=2)\n",
        "colnames(cpu.r.mat) <- c(\"InitD\",\"SmplD\")\n",
        "for (sim in 1:nSim){\n",
        "  cat(sim)\n",
        "  cpu.d <- c(0,0)\n",
        "  for (smpl in 1:nSmpl){\n",
        "    cpu.d <- cpu.d+DirectSampl(BgnSt,EndSt,RateM,TmV[sim])$ptm\n",
        "  }\n",
        "  cpu.d.mat[sim,] <- cpu.d\n",
        "}\n",
        "cat(\"\\n\")\n",
        "n.cnd.sbst <- cndNsbstV(BgnSt,EndSt,RateM,TmV)\n",
        "cat(\"\\nDirect sampling complexity: HKY model with beginning state A and ending state A\")\n",
        "plot(TmV,cpu.d.mat[,1],xlab=\"Time\",ylab=\"Initialization CPU\",\n",
        "     cex.axis=2,cex.lab=1.4)\n",
        "mnInit <- mean(cpu.d.mat[,1])\n",
        "abline(h=mnInit,col=\"blue\")\n",
        "text(0.1,0.97*max(cpu.d.mat[,1]),pos=4,cex=1.3,\n",
        "     paste(\"alpha=\",round(mnInit,digits=4),sep=\"\"))\n",
        "plot(TmV,cpu.d.mat[,2],ylim=c(0,max(cpu.d.mat)),\n",
        "     xlab=\"Time\",ylab=\"Sampling CPU\",\n",
        "     cex.axis=2,cex.lab=1.4)\n",
        "x <- n.cnd.sbst\n",
        "alpha <- 1/(t(x)%*%x)*x%*%cpu.d.mat[,2]\n",
        "points(TmV,alpha*x,type=\"l\",col=\"green\")\n",
        "text(0.1,0.97*max(cpu.d.mat[,2]),pos=4,cex=1.3,\n",
        "     paste(\"beta=\",round(alpha,digits=4),sep=\"\"))"
      ],
      "metadata": {
        "colab": {
          "base_uri": "https://localhost:8080/",
          "height": 1000
        },
        "id": "htIPxjNT9qQS",
        "outputId": "ac9e07ac-529a-4e71-8c3c-eb7347e29e1e"
      },
      "execution_count": null,
      "outputs": [
        {
          "output_type": "stream",
          "name": "stdout",
          "text": [
            "Direct sampling \n",
            "123456789101112131415161718192021222324252627282930\n",
            "evaluating no 1 out of 30 \n",
            "evaluating no 2 out of 30 \n",
            "evaluating no 3 out of 30 \n",
            "evaluating no 4 out of 30 \n",
            "evaluating no 5 out of 30 \n",
            "evaluating no 6 out of 30 \n",
            "evaluating no 7 out of 30 \n",
            "evaluating no 8 out of 30 \n",
            "evaluating no 9 out of 30 \n",
            "evaluating no 10 out of 30 \n",
            "evaluating no 11 out of 30 \n",
            "evaluating no 12 out of 30 \n",
            "evaluating no 13 out of 30 \n",
            "evaluating no 14 out of 30 \n",
            "evaluating no 15 out of 30 \n",
            "evaluating no 16 out of 30 \n",
            "evaluating no 17 out of 30 \n",
            "evaluating no 18 out of 30 \n",
            "evaluating no 19 out of 30 \n",
            "evaluating no 20 out of 30 \n",
            "evaluating no 21 out of 30 \n",
            "evaluating no 22 out of 30 \n",
            "evaluating no 23 out of 30 \n",
            "evaluating no 24 out of 30 \n",
            "evaluating no 25 out of 30 \n",
            "evaluating no 26 out of 30 \n",
            "evaluating no 27 out of 30 \n",
            "evaluating no 28 out of 30 \n",
            "evaluating no 29 out of 30 \n",
            "evaluating no 30 out of 30 \n",
            "\n",
            "Direct sampling complexity: HKY model with beginning state A and ending state A"
          ]
        },
        {
          "output_type": "display_data",
          "data": {
            "image/png": "[encoded data removed]"
          },
          "metadata": {}
        }
      ]
    },
    {
      "cell_type": "markdown",
      "source": [
        "Beginning state A and ending state G"
      ],
      "metadata": {
        "id": "EoGsHCO9AGIT"
      }
    },
    {
      "cell_type": "code",
      "source": [
        "%%R\n",
        "frq <- c(0.2,0.3,0.3,0.2)\n",
        "RateM <- HKYRate(2,c(0.2,0.3,0.3,0.2))\n",
        "BgnSt <- 1 ; EndSt <- 2\n",
        "BgnTm <- 0.01 ; EndTm <- 3 ; nSim <- 30\n",
        "TmV <- seq(BgnTm,EndTm,len=nSim)\n",
        "nSmpl <- 100\n",
        "par(mfrow=c(3,3))\n",
        "cat(\"Direct sampling\",\"\\n\")\n",
        "cpu.d.mat <- matrix(0,nrow=nSim,ncol=2)\n",
        "colnames(cpu.r.mat) <- c(\"InitD\",\"SmplD\")\n",
        "for (sim in 1:nSim){\n",
        "  cat(sim)\n",
        "  cpu.d <- c(0,0)\n",
        "  for (smpl in 1:nSmpl){\n",
        "    cpu.d <- cpu.d+DirectSampl(BgnSt,EndSt,RateM,TmV[sim])$ptm\n",
        "  }\n",
        "  cpu.d.mat[sim,] <- cpu.d\n",
        "}\n",
        "cat(\"\\n\")\n",
        "n.cnd.sbst <- cndNsbstV(BgnSt,EndSt,RateM,TmV)\n",
        "cat(\"\\nDirect sampling complexity: HKY model with beginning state A and ending state G\")\n",
        "plot(TmV,cpu.d.mat[,1],xlab=\"Time\",ylab=\"Initialization CPU\",\n",
        "     cex.axis=2,cex.lab=1.4)\n",
        "mnInit <- mean(cpu.d.mat[,1])\n",
        "abline(h=mnInit,col=\"blue\")\n",
        "text(0.1,0.97*max(cpu.d.mat[,1]),pos=4,cex=1.3,\n",
        "     paste(\"alpha=\",round(mnInit,digits=4),sep=\"\"))\n",
        "plot(TmV,cpu.d.mat[,2],ylim=c(0,max(cpu.d.mat)),\n",
        "     xlab=\"Time\",ylab=\"Sampling CPU\",\n",
        "     cex.axis=2,cex.lab=1.4)\n",
        "x <- n.cnd.sbst\n",
        "alpha <- 1/(t(x)%*%x)*x%*%cpu.d.mat[,2]\n",
        "points(TmV,alpha*x,type=\"l\",col=\"green\")\n",
        "text(0.1,0.97*max(cpu.d.mat[,2]),pos=4,cex=1.3,\n",
        "     paste(\"beta=\",round(alpha,digits=4),sep=\"\"))"
      ],
      "metadata": {
        "colab": {
          "base_uri": "https://localhost:8080/",
          "height": 1000
        },
        "id": "zJu7QvLt_iCh",
        "outputId": "1e778bb1-935a-4706-8da3-3a8facd61ea8"
      },
      "execution_count": null,
      "outputs": [
        {
          "output_type": "stream",
          "name": "stdout",
          "text": [
            "Direct sampling \n",
            "123456789101112131415161718192021222324252627282930\n",
            "evaluating no 1 out of 30 \n",
            "evaluating no 2 out of 30 \n",
            "evaluating no 3 out of 30 \n",
            "evaluating no 4 out of 30 \n",
            "evaluating no 5 out of 30 \n",
            "evaluating no 6 out of 30 \n",
            "evaluating no 7 out of 30 \n",
            "evaluating no 8 out of 30 \n",
            "evaluating no 9 out of 30 \n",
            "evaluating no 10 out of 30 \n",
            "evaluating no 11 out of 30 \n",
            "evaluating no 12 out of 30 \n",
            "evaluating no 13 out of 30 \n",
            "evaluating no 14 out of 30 \n",
            "evaluating no 15 out of 30 \n",
            "evaluating no 16 out of 30 \n",
            "evaluating no 17 out of 30 \n",
            "evaluating no 18 out of 30 \n",
            "evaluating no 19 out of 30 \n",
            "evaluating no 20 out of 30 \n",
            "evaluating no 21 out of 30 \n",
            "evaluating no 22 out of 30 \n",
            "evaluating no 23 out of 30 \n",
            "evaluating no 24 out of 30 \n",
            "evaluating no 25 out of 30 \n",
            "evaluating no 26 out of 30 \n",
            "evaluating no 27 out of 30 \n",
            "evaluating no 28 out of 30 \n",
            "evaluating no 29 out of 30 \n",
            "evaluating no 30 out of 30 \n",
            "\n",
            "Direct sampling complexity: HKY model with beginning state A and ending state G"
          ]
        },
        {
          "output_type": "display_data",
          "data": {
            "image/png": "[encoded data removed]"
          },
          "metadata": {}
        }
      ]
    },
    {
      "cell_type": "markdown",
      "source": [
        "Simulating Figure 7"
      ],
      "metadata": {
        "id": "AJjwHHHXAI2H"
      }
    },
    {
      "cell_type": "markdown",
      "source": [
        "Beginning state A and ending state A"
      ],
      "metadata": {
        "id": "iviHLX_yAqFC"
      }
    },
    {
      "cell_type": "code",
      "source": [
        "%%R\n",
        "frq <- c(0.2,0.3,0.3,0.2)\n",
        "RateM <- HKYRate(2,c(0.2,0.3,0.3,0.2))\n",
        "BgnSt <- 1 ; EndSt <- 1\n",
        "BgnTm <- 0.01 ; EndTm <- 3 ; nSim <- 30\n",
        "TmV <- seq(BgnTm,EndTm,len=nSim)\n",
        "nSmpl <- 100\n",
        "par(mfrow=c(3,3))\n",
        "cat(\"Uniformization\",\"\\n\")\n",
        "cpu.u.mat <- matrix(0,nrow=nSim,ncol=2)\n",
        "colnames(cpu.r.mat) <- c(\"InitU\",\"SmplU\")\n",
        "for (sim in 1:nSim){\n",
        "  cat(sim)\n",
        "  cpu.u <- c(0,0)\n",
        "  for (smpl in 1:nSmpl){\n",
        "    cpu.u <- cpu.u+UniformSampl(BgnSt,EndSt,RateM,TmV[sim])$ptm\n",
        "  }\n",
        "  cpu.u.mat[sim,] <- cpu.u\n",
        "}\n",
        "cat(\"\\n\")\n",
        "n.virt.sbst <- vNsbstV(BgnSt,EndSt,RateM,TmV)\n",
        "cat(\"\\nUniformization complexity: HKY model with beginning state A and ending state A\")\n",
        "plot(TmV,cpu.u.mat[,1],xlab=\"Time\",ylab=\"Initialization CPU\",\n",
        "     cex.axis=2,cex.lab=1.4)\n",
        "mnInit <- mean(cpu.u.mat[,1])\n",
        "abline(h=mnInit,col=\"blue\")\n",
        "text(0.1,0.97*max(cpu.u.mat[,1]),pos=4,cex=1.3,\n",
        "     paste(\"alpha=\",round(mnInit,digits=4),sep=\"\"))\n",
        "plot(TmV,cpu.u.mat[,2],ylim=c(0,max(cpu.u.mat[,2])),\n",
        "     xlab=\"Time\",ylab=\"Sampling CPU\",\n",
        "     cex.axis=2,cex.lab=1.4)\n",
        "x <- n.virt.sbst\n",
        "alpha <- 1/(t(x)%*%x)*x%*%cpu.u.mat[,2]\n",
        "points(TmV,alpha*x,type=\"l\",col=\"green\")\n",
        "text(0.1,0.97*max(cpu.u.mat[,2]),pos=4,cex=1.3,\n",
        "     paste(\"beta=\",round(alpha,digits=4),sep=\"\"))"
      ],
      "metadata": {
        "colab": {
          "base_uri": "https://localhost:8080/",
          "height": 566
        },
        "id": "6CPj7R8YAJLJ",
        "outputId": "5fdd8fa8-8786-40a9-aaec-dabf67f74d27"
      },
      "execution_count": null,
      "outputs": [
        {
          "output_type": "stream",
          "name": "stdout",
          "text": [
            "Uniformization \n",
            "123456789101112131415161718192021222324252627282930\n",
            "\n",
            "Uniformization complexity: HKY model with beginning state A and ending state A"
          ]
        },
        {
          "output_type": "display_data",
          "data": {
            "image/png": "[encoded data removed]"
          },
          "metadata": {}
        }
      ]
    },
    {
      "cell_type": "markdown",
      "source": [
        "Beginning state A and ending state G"
      ],
      "metadata": {
        "id": "2wNULdQIB1u2"
      }
    },
    {
      "cell_type": "code",
      "source": [
        "%%R\n",
        "frq <- c(0.2,0.3,0.3,0.2)\n",
        "RateM <- HKYRate(2,c(0.2,0.3,0.3,0.2))\n",
        "BgnSt <- 1 ; EndSt <- 2\n",
        "BgnTm <- 0.01 ; EndTm <- 3 ; nSim <- 30\n",
        "TmV <- seq(BgnTm,EndTm,len=nSim)\n",
        "nSmpl <- 100\n",
        "par(mfrow=c(3,3))\n",
        "cat(\"Uniformization\",\"\\n\")\n",
        "cpu.u.mat <- matrix(0,nrow=nSim,ncol=2)\n",
        "colnames(cpu.r.mat) <- c(\"InitU\",\"SmplU\")\n",
        "for (sim in 1:nSim){\n",
        "  cat(sim)\n",
        "  cpu.u <- c(0,0)\n",
        "  for (smpl in 1:nSmpl){\n",
        "    cpu.u <- cpu.u+UniformSampl(BgnSt,EndSt,RateM,TmV[sim])$ptm\n",
        "  }\n",
        "  cpu.u.mat[sim,] <- cpu.u\n",
        "}\n",
        "cat(\"\\n\")\n",
        "n.virt.sbst <- vNsbstV(BgnSt,EndSt,RateM,TmV)\n",
        "cat(\"\\nUniformization complexity: HKY model with beginning state A and ending state G\")\n",
        "plot(TmV,cpu.u.mat[,1],xlab=\"Time\",ylab=\"Initialization CPU\",\n",
        "     cex.axis=2,cex.lab=1.4)\n",
        "mnInit <- mean(cpu.u.mat[,1])\n",
        "abline(h=mnInit,col=\"blue\")\n",
        "text(0.1,0.97*max(cpu.u.mat[,1]),pos=4,cex=1.3,\n",
        "     paste(\"alpha=\",round(mnInit,digits=4),sep=\"\"))\n",
        "plot(TmV,cpu.u.mat[,2],ylim=c(0,max(cpu.u.mat[,2])),\n",
        "     xlab=\"Time\",ylab=\"Sampling CPU\",\n",
        "     cex.axis=2,cex.lab=1.4)\n",
        "x <- n.virt.sbst\n",
        "alpha <- 1/(t(x)%*%x)*x%*%cpu.u.mat[,2]\n",
        "points(TmV,alpha*x,type=\"l\",col=\"green\")\n",
        "text(0.1,0.97*max(cpu.u.mat[,2]),pos=4,cex=1.3,\n",
        "     paste(\"beta=\",round(alpha,digits=4),sep=\"\"))"
      ],
      "metadata": {
        "colab": {
          "base_uri": "https://localhost:8080/",
          "height": 566
        },
        "id": "7mz-B01uBuYL",
        "outputId": "91e4bd11-2454-4f27-ad1e-238bdd6594a3"
      },
      "execution_count": null,
      "outputs": [
        {
          "output_type": "stream",
          "name": "stdout",
          "text": [
            "Uniformization \n",
            "123456789101112131415161718192021222324252627282930\n",
            "\n",
            "Uniformization complexity: HKY model with beginning state A and ending state G"
          ]
        },
        {
          "output_type": "display_data",
          "data": {
            "image/png": "[encoded data removed]"
          },
          "metadata": {}
        }
      ]
    }
  ]
}